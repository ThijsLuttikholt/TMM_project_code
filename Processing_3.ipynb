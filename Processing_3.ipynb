{
 "cells": [
  {
   "cell_type": "markdown",
   "metadata": {},
   "source": [
    "## Text and multimedia mining: project RQ3 file\n",
    "\n",
    "In this file, the processing of all the data for research question 3 will be done. This includes evaluations for the data that were obtained."
   ]
  },
  {
   "cell_type": "code",
   "execution_count": 2,
   "metadata": {},
   "outputs": [],
   "source": [
    "import pandas as pd\n",
    "import numpy as np"
   ]
  },
  {
   "cell_type": "code",
   "execution_count": 3,
   "metadata": {},
   "outputs": [],
   "source": [
    "data3 = pd.read_json('RQ3_dataset.json.gz', lines=True, compression='gzip')"
   ]
  },
  {
   "cell_type": "code",
   "execution_count": 6,
   "metadata": {},
   "outputs": [],
   "source": [
    "def aver_frequency(data, column_name):\n",
    "    frequencies = np.zeros(len(data[column_name]))\n",
    "    for index, item in enumerate(data[column_name]):\n",
    "        total = 0\n",
    "        count = 0\n",
    "        for item2 in item:\n",
    "            total += int(item2[0])\n",
    "            count += 1\n",
    "        frequencies[index] = total/count\n",
    "    return frequencies"
   ]
  },
  {
   "cell_type": "code",
   "execution_count": 13,
   "metadata": {},
   "outputs": [
    {
     "name": "stdout",
     "output_type": "stream",
     "text": [
      "finished\n"
     ]
    }
   ],
   "source": [
    "#For question 3, we need spoiler frequency for each item. And probably group by time period.\n",
    "#print(data3)\n",
    "time_freqs = np.zeros((len(data3),2))\n",
    "time_freqs[:,0] = data3['timestamp'].to_numpy()\n",
    "time_freqs[:,1] = aver_frequency(data3, 'review_sentences')\n",
    "print('finished')\n",
    "    \n",
    "    "
   ]
  },
  {
   "cell_type": "code",
   "execution_count": 19,
   "metadata": {},
   "outputs": [
    {
     "name": "stdout",
     "output_type": "stream",
     "text": [
      "saved\n"
     ]
    }
   ],
   "source": [
    "np.save('processed_rq3.npy', time_freqs)\n",
    "print('saved')"
   ]
  },
  {
   "cell_type": "code",
   "execution_count": null,
   "metadata": {},
   "outputs": [],
   "source": []
  }
 ],
 "metadata": {
  "kernelspec": {
   "display_name": "Python 3",
   "language": "python",
   "name": "python3"
  },
  "language_info": {
   "codemirror_mode": {
    "name": "ipython",
    "version": 3
   },
   "file_extension": ".py",
   "mimetype": "text/x-python",
   "name": "python",
   "nbconvert_exporter": "python",
   "pygments_lexer": "ipython3",
   "version": "3.7.2"
  }
 },
 "nbformat": 4,
 "nbformat_minor": 2
}
